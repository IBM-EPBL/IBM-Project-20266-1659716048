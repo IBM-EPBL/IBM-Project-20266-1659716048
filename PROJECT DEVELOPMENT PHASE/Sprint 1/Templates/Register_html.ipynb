{
  "nbformat": 4,
  "nbformat_minor": 0,
  "metadata": {
    "colab": {
      "provenance": []
    },
    "kernelspec": {
      "name": "python3",
      "display_name": "Python 3"
    },
    "language_info": {
      "name": "python"
    }
  },
  "cells": [
    {
      "cell_type": "code",
      "execution_count": 2,
      "metadata": {
        "colab": {
          "base_uri": "https://localhost:8080/",
          "height": 130
        },
        "id": "-l5GPYjbulUo",
        "outputId": "4669d937-162d-44fd-fd19-ecc21ad69d91"
      },
      "outputs": [
        {
          "output_type": "error",
          "ename": "IndentationError",
          "evalue": "ignored",
          "traceback": [
            "\u001b[0;36m  File \u001b[0;32m\"<tokenize>\"\u001b[0;36m, line \u001b[0;32m6\u001b[0m\n\u001b[0;31m    <style>\u001b[0m\n\u001b[0m    ^\u001b[0m\n\u001b[0;31mIndentationError\u001b[0m\u001b[0;31m:\u001b[0m unindent does not match any outer indentation level\n"
          ]
        }
      ],
      "source": [
        "<!DOCTYPE html>\n",
        "<html lang=\"en\">\n",
        "<head>\n",
        "    <meta charset=\"UTF-8\">\n",
        "    <title>Titletitle>\n",
        "  <style>\n",
        "    * {box-sizing: border-box}\n",
        "\n",
        "/* Add padding to containers */\n",
        ".container {\n",
        "  padding: 16px;\n",
        "}\n",
        "\n",
        "/* Full-width input fields */\n",
        "input[type=text], input[type=password] {\n",
        "  width: 100%;\n",
        "  padding: 15px;\n",
        "  margin: 5px 0 22px 0;\n",
        "  display: inline-block;\n",
        "  border: none;\n",
        "  background: #f1f1f1;\n",
        "}\n",
        "\n",
        "input[type=text]:focus, input[type=password]:focus {\n",
        "  background-color: #ddd;\n",
        "  outline: none;\n",
        "}\n",
        "\n",
        "/* Overwrite default styles of hr */\n",
        "hr {\n",
        "  border: 1px solid #f1f1f1;\n",
        "  margin-bottom: 25px;\n",
        "}\n",
        "\n",
        "/* Set a style for the submit/register button */\n",
        ".registerbtn {\n",
        "  background-color: #04AA6D;\n",
        "  color: white;\n",
        "  padding: 16px 20px;\n",
        "  margin: 8px 0;\n",
        "  border: none;\n",
        "  cursor: pointer;\n",
        "  width: 100%;\n",
        "  opacity: 0.9;\n",
        "}\n",
        "\n",
        ".registerbtn:hover {\n",
        "  opacity:1;\n",
        "}\n",
        "\n",
        "/* Add a blue text color to links */\n",
        "a {\n",
        "  color: dodgerblue;\n",
        "}\n",
        "\n",
        "/* Set a grey background color and center the text of the \"sign in\" section */\n",
        ".signin {\n",
        "  background-color: #f1f1f1;\n",
        "  text-align: center;\n",
        "}\n",
        "\n",
        "  style>\n",
        "head>\n",
        "<body>\n",
        "<form>\n",
        "  <div class=\"container\">\n",
        "    <h1>Registerh1>\n",
        "    <p>Please fill in this form to create an account.p>\n",
        "    <hr>\n",
        "\n",
        "    <label for=\"email\"><b>Emailb>label>\n",
        "    <input type=\"text\" placeholder=\"Enter Email\" name=\"email\" id=\"email\" required>\n",
        "\n",
        "    <label for=\"psw\"><b>Passwordb>label>\n",
        "    <input type=\"password\" placeholder=\"Enter Password\" name=\"psw\" id=\"psw\" required>\n",
        "\n",
        "    <label for=\"psw-repeat\"><b>Repeat Passwordb>label>\n",
        "    <input type=\"password\" placeholder=\"Repeat Password\" name=\"psw-repeat\" id=\"psw-repeat\" required>\n",
        "    <hr>\n",
        "\n",
        "\n",
        "    <p><a href=\"/index\" class=\"registerbtn\">Registera>.p>\n",
        "  div>\n",
        "\n",
        "  <div class=\"container signin\">\n",
        "    <p>Already have an account? <a href=\"/login\">Sign ina>.p>\n",
        "  div>\n",
        "form>\n",
        "body>\n",
        "html>\n"
      ]
    },
    {
      "cell_type": "code",
      "source": [],
      "metadata": {
        "id": "2u_-RP5Lvxi-"
      },
      "execution_count": null,
      "outputs": []
    }
  ]
}