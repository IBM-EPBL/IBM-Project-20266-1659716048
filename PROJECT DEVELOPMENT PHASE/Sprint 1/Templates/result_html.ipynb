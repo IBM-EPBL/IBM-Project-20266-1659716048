{
  "nbformat": 4,
  "nbformat_minor": 0,
  "metadata": {
    "colab": {
      "provenance": []
    },
    "kernelspec": {
      "name": "python3",
      "display_name": "Python 3"
    },
    "language_info": {
      "name": "python"
    }
  },
  "cells": [
    {
      "cell_type": "code",
      "execution_count": null,
      "metadata": {
        "id": "azTgKqjpvOkX"
      },
      "outputs": [],
      "source": [
        "\n",
        "<!DOCTYPE html>\n",
        "<html lang=\"en\">\n",
        "<head>\n",
        "    <meta charset=\"UTF-8\">\n",
        "    <title>Titletitle>\n",
        "head>\n",
        "<body>\n",
        "<h1>resulth1>\n",
        "body>\n",
        "html>"
      ]
    }
  ]
}